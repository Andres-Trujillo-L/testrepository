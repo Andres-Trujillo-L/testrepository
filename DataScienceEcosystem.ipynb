{
 "cells": [
  {
   "metadata": {},
   "cell_type": "markdown",
   "source": "# Data Science Tools and Ecosystem",
   "id": "52f7bb3f148adc31"
  },
  {
   "metadata": {},
   "cell_type": "markdown",
   "source": "# In this notebook, Data Science Tools and Ecosystem are summarized.",
   "id": "bc91fffd83d4c152"
  },
  {
   "metadata": {},
   "cell_type": "markdown",
   "source": [
    "# Some of the popular languages that Data Scientists use are:\n",
    "1. Python\n",
    "2. R\n",
    "3. Julia"
   ],
   "id": "7b783902db1065f4"
  },
  {
   "metadata": {},
   "cell_type": "markdown",
   "source": [
    "# Some of the commonly used libraries used by Data Scientists include:\n",
    "1. Pandas\n",
    "2. Numpy\n",
    "3. Matplotlib\n",
    "4. Seaborn\n",
    "5. Scikit-Learn\n",
    "6. Plotly"
   ],
   "id": "a7d5c5712a91cfc4"
  },
  {
   "metadata": {},
   "cell_type": "markdown",
   "source": [
    "|Data Science Tools | Name | Description |\n",
    "|--------|---------|--------|\n",
    "|Programing Languages | Python, R, Julia | Used to code |\n",
    "|Libraries and Frameworks | Numpy, Pandas, etc | To visualize the data |\n",
    "|Integrated Development Environments | Jupyter Notebooks | To write and excecute the code|"
   ],
   "id": "9334979d27445705"
  },
  {
   "metadata": {},
   "cell_type": "markdown",
   "source": "### Below are a few examples of evaluating arithmetic expressions in Python.",
   "id": "56baea88f7134b18"
  },
  {
   "metadata": {
    "ExecuteTime": {
     "end_time": "2024-11-08T17:36:43.731737Z",
     "start_time": "2024-11-08T17:36:43.684002Z"
    }
   },
   "cell_type": "code",
   "source": "(38+45)*10",
   "id": "fa94476ed3edbbd9",
   "outputs": [
    {
     "data": {
      "text/plain": [
       "830"
      ]
     },
     "execution_count": 1,
     "metadata": {},
     "output_type": "execute_result"
    }
   ],
   "execution_count": 1
  },
  {
   "metadata": {
    "ExecuteTime": {
     "end_time": "2024-11-08T17:39:51.154972Z",
     "start_time": "2024-11-08T17:39:51.103517Z"
    }
   },
   "cell_type": "code",
   "source": [
    "# This will convert 200 minutes to hours by diving by 60\n",
    "\n",
    "minutes = 200\n",
    "hours = minutes//60\n",
    "print(f'Hours: {hours}')"
   ],
   "id": "f45c6535421d48ca",
   "outputs": [
    {
     "name": "stdout",
     "output_type": "stream",
     "text": [
      "Hours: 3\n"
     ]
    }
   ],
   "execution_count": 2
  },
  {
   "metadata": {},
   "cell_type": "markdown",
   "source": [
    "**Objectives:**\n",
    "\n",
    "- List popular languages for Data Science\n",
    "- Demonstrate basic arithmetic operations in Python\n",
    "- Understand data structures commonly used in Data Science\n",
    "- Learn how to import and use Python libraries for data analysis\n",
    "- Write and execute simple Python code in Jupyter Notebook\n"
   ],
   "id": "c8962066153bca22"
  },
  {
   "metadata": {},
   "cell_type": "markdown",
   "source": [
    "## Author\n",
    "\n",
    "Andres Trujillo"
   ],
   "id": "a30170ac7c7a0c9a"
  },
  {
   "metadata": {},
   "cell_type": "code",
   "outputs": [],
   "execution_count": null,
   "source": "",
   "id": "c10ac1d652bfe88e"
  }
 ],
 "metadata": {
  "kernelspec": {
   "display_name": "Python 3",
   "language": "python",
   "name": "python3"
  },
  "language_info": {
   "codemirror_mode": {
    "name": "ipython",
    "version": 2
   },
   "file_extension": ".py",
   "mimetype": "text/x-python",
   "name": "python",
   "nbconvert_exporter": "python",
   "pygments_lexer": "ipython2",
   "version": "2.7.6"
  }
 },
 "nbformat": 4,
 "nbformat_minor": 5
}
